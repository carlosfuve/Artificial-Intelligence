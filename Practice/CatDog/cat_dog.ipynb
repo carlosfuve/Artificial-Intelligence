{
  "cells": [
    {
      "cell_type": "markdown",
      "metadata": {
        "id": "HlYfEc-IoGRm"
      },
      "source": [
        "# **Ejercicio entregable 1**"
      ]
    },
    {
      "cell_type": "markdown",
      "metadata": {
        "id": "zU338LCBoOe9"
      },
      "source": [
        "El documento está orientado a la realización de una red DCNN que permita clasificar entre imágenes de perros y gatos.\n",
        "Para ello, se han definido todos los pasos que debereís dar y la puntuación de los mismos"
      ]
    },
    {
      "cell_type": "code",
      "execution_count": null,
      "metadata": {
        "id": "thbt7PEzoEY0",
        "colab": {
          "base_uri": "https://localhost:8080/"
        },
        "outputId": "aab02d17-a948-482a-99c3-d8ff414ef764"
      },
      "outputs": [
        {
          "output_type": "stream",
          "name": "stdout",
          "text": [
            "Mounted at /content/drive\n"
          ]
        }
      ],
      "source": [
        "import pandas as pd\n",
        "import numpy as np\n",
        "import tensorflow as tf\n",
        "from tensorflow import keras\n",
        "from tensorflow.keras import layers\n",
        "from sklearn.model_selection import train_test_split\n",
        "import matplotlib.pyplot as plt\n",
        "#from tensorflow.keras.processing.image import ImageDataGenerator\n",
        "\n",
        "import os\n",
        "\n",
        "from google.colab import drive\n",
        "drive.mount('/content/drive')\n",
        "\n",
        "\n",
        "path_cats = \"/content/drive/MyDrive/Deep Learning/Datasets/dataset_cat_dog/cat\"\n",
        "path_dogs = \"/content/drive/MyDrive/Deep Learning/Datasets/dataset_cat_dog/dog\""
      ]
    },
    {
      "cell_type": "markdown",
      "metadata": {
        "id": "83xk8yZDpKJY"
      },
      "source": [
        "## Construcción del dataset"
      ]
    },
    {
      "cell_type": "code",
      "source": [
        "def image_transformation(path,label):\n",
        "  img = tf.io.read_file(path)\n",
        "  img = tf.image.decode_jpeg(img, channels=3)\n",
        "  img = tf.image.resize(img, (128,128))\n",
        "  img = tf.cast(img, tf.float32)/255\n",
        "  return (img , label)"
      ],
      "metadata": {
        "id": "OjbA-6fhZjvo"
      },
      "execution_count": null,
      "outputs": []
    },
    {
      "cell_type": "code",
      "execution_count": null,
      "metadata": {
        "id": "OwAKrxenpdR2"
      },
      "outputs": [],
      "source": [
        "def get_dataset(batch_size=128):\n",
        "  content = [(os.path.join(path_cats,name),[1,0]) for name in os.listdir(path_cats)]\n",
        "  content += [(os.path.join(path_dogs,name),[0,1]) for name in os.listdir(path_dogs)]\n",
        "\n",
        "  X_train, X_test, Y_train, Y_test = train_test_split([a for (a,_) in content],[b for (_,b) in content], test_size=0.2, random_state=23)\n",
        "\n",
        "  train_data = tf.data.Dataset.from_tensor_slices((tf.constant(X_train), tf.constant(Y_train))).map(image_transformation, num_parallel_calls=tf.data.AUTOTUNE).cache().batch(batch_size)\n",
        "  test_data = tf.data.Dataset.from_tensor_slices((tf.constant(X_test), tf.constant(Y_test))).map(image_transformation, num_parallel_calls=tf.data.AUTOTUNE).cache().batch(batch_size)\n",
        "\n",
        "  return train_data, test_data"
      ]
    },
    {
      "cell_type": "code",
      "source": [
        "train_data, test_data = get_dataset()"
      ],
      "metadata": {
        "id": "OgN1mCbKq1W6"
      },
      "execution_count": null,
      "outputs": []
    },
    {
      "cell_type": "markdown",
      "metadata": {
        "id": "4QbVjOFXpg1B"
      },
      "source": [
        "## Estructura del modelo"
      ]
    },
    {
      "cell_type": "code",
      "execution_count": null,
      "metadata": {
        "id": "Xj_JW1pBnnAQ"
      },
      "outputs": [],
      "source": [
        "def get_model():\n",
        "  model = keras.models.Sequential()\n",
        "  model.add(layers.Conv2D(16,3,activation='relu',input_shape=(128,128,3)))\n",
        "  model.add(layers.MaxPooling2D())\n",
        "  model.add(layers.Conv2D(32,3,activation='relu'))\n",
        "  model.add(layers.MaxPooling2D())\n",
        "  model.add(layers.Conv2D(64,3,activation='relu'))\n",
        "  model.add(layers.Flatten())\n",
        "  model.add(layers.Dense(2,activation='softmax'))\n",
        "  model.compile(loss='binary_crossentropy',optimizer='adam',metrics=['accuracy'])\n",
        "  return model"
      ]
    },
    {
      "cell_type": "markdown",
      "metadata": {
        "id": "SLVBdx8ZQ5z6"
      },
      "source": [
        "##  Model summary"
      ]
    },
    {
      "cell_type": "code",
      "execution_count": null,
      "metadata": {
        "id": "iVWUFS0Dpw-u"
      },
      "outputs": [],
      "source": [
        "model = get_model()"
      ]
    },
    {
      "cell_type": "code",
      "execution_count": null,
      "metadata": {
        "id": "DfeJmWL_pz7H",
        "colab": {
          "base_uri": "https://localhost:8080/"
        },
        "outputId": "d79c6c82-64ec-45e3-983b-88db99aeeede"
      },
      "outputs": [
        {
          "output_type": "stream",
          "name": "stdout",
          "text": [
            "Model: \"sequential_1\"\n",
            "_________________________________________________________________\n",
            " Layer (type)                Output Shape              Param #   \n",
            "=================================================================\n",
            " conv2d_3 (Conv2D)           (None, 126, 126, 16)      448       \n",
            "                                                                 \n",
            " max_pooling2d_2 (MaxPoolin  (None, 63, 63, 16)        0         \n",
            " g2D)                                                            \n",
            "                                                                 \n",
            " conv2d_4 (Conv2D)           (None, 61, 61, 32)        4640      \n",
            "                                                                 \n",
            " max_pooling2d_3 (MaxPoolin  (None, 30, 30, 32)        0         \n",
            " g2D)                                                            \n",
            "                                                                 \n",
            " conv2d_5 (Conv2D)           (None, 28, 28, 64)        18496     \n",
            "                                                                 \n",
            " flatten_1 (Flatten)         (None, 50176)             0         \n",
            "                                                                 \n",
            " dense_1 (Dense)             (None, 2)                 100354    \n",
            "                                                                 \n",
            "=================================================================\n",
            "Total params: 123938 (484.13 KB)\n",
            "Trainable params: 123938 (484.13 KB)\n",
            "Non-trainable params: 0 (0.00 Byte)\n",
            "_________________________________________________________________\n"
          ]
        }
      ],
      "source": [
        "model.summary()"
      ]
    },
    {
      "cell_type": "markdown",
      "metadata": {
        "id": "V1fuNfh4p8w2"
      },
      "source": [
        "##  Callbacks"
      ]
    },
    {
      "cell_type": "code",
      "execution_count": null,
      "metadata": {
        "id": "Rd_j7nWKqOcm"
      },
      "outputs": [],
      "source": [
        "early_stopping = keras.callbacks.EarlyStopping(monitor='val_accuracy', patience=10, restore_best_weights=True)"
      ]
    },
    {
      "cell_type": "code",
      "execution_count": null,
      "metadata": {
        "id": "yZGPMbb4qO-O"
      },
      "outputs": [],
      "source": [
        "reduce_lr_on_plateau = keras.callbacks.ReduceLROnPlateau(monitor='val_accuracy', patience=5)"
      ]
    },
    {
      "cell_type": "code",
      "execution_count": null,
      "metadata": {
        "id": "Go595ag2qO28"
      },
      "outputs": [],
      "source": [
        "# model_checkpoint = keras.callbacks.ModelCheckpoint(filepath=\"./generated/model\", monitor='val_accuracy', save_best_only=True, save_weights_only=False)"
      ]
    },
    {
      "cell_type": "markdown",
      "metadata": {
        "id": "ahjW7gDSqPcv"
      },
      "source": [
        "##  Entrenamiento"
      ]
    },
    {
      "cell_type": "code",
      "execution_count": null,
      "metadata": {
        "id": "1DzTyjabrE6m",
        "colab": {
          "base_uri": "https://localhost:8080/"
        },
        "outputId": "93d09550-24d7-478e-ddff-9a9e72871086"
      },
      "outputs": [
        {
          "output_type": "stream",
          "name": "stdout",
          "text": [
            "Epoch 1/1000\n",
            "21/21 [==============================] - 443s 20s/step - loss: 0.7058 - accuracy: 0.5301 - val_loss: 0.6770 - val_accuracy: 0.6098 - lr: 0.0010\n",
            "Epoch 2/1000\n",
            "21/21 [==============================] - 1s 45ms/step - loss: 0.6531 - accuracy: 0.6308 - val_loss: 0.6179 - val_accuracy: 0.7043 - lr: 0.0010\n",
            "Epoch 3/1000\n",
            "21/21 [==============================] - 1s 42ms/step - loss: 0.5778 - accuracy: 0.7018 - val_loss: 0.5736 - val_accuracy: 0.7165 - lr: 0.0010\n",
            "Epoch 4/1000\n",
            "21/21 [==============================] - 1s 44ms/step - loss: 0.5153 - accuracy: 0.7452 - val_loss: 0.5449 - val_accuracy: 0.7348 - lr: 0.0010\n",
            "Epoch 5/1000\n",
            "21/21 [==============================] - 1s 50ms/step - loss: 0.4814 - accuracy: 0.7689 - val_loss: 0.5403 - val_accuracy: 0.7241 - lr: 0.0010\n",
            "Epoch 6/1000\n",
            "21/21 [==============================] - 1s 49ms/step - loss: 0.4575 - accuracy: 0.7887 - val_loss: 0.5151 - val_accuracy: 0.7470 - lr: 0.0010\n",
            "Epoch 7/1000\n",
            "21/21 [==============================] - 1s 43ms/step - loss: 0.4160 - accuracy: 0.8246 - val_loss: 0.5158 - val_accuracy: 0.7409 - lr: 0.0010\n",
            "Epoch 8/1000\n",
            "21/21 [==============================] - 1s 40ms/step - loss: 0.3801 - accuracy: 0.8360 - val_loss: 0.5482 - val_accuracy: 0.7378 - lr: 0.0010\n",
            "Epoch 9/1000\n",
            "21/21 [==============================] - 1s 41ms/step - loss: 0.3530 - accuracy: 0.8543 - val_loss: 0.5222 - val_accuracy: 0.7530 - lr: 0.0010\n",
            "Epoch 10/1000\n",
            "21/21 [==============================] - 1s 40ms/step - loss: 0.3183 - accuracy: 0.8696 - val_loss: 0.5403 - val_accuracy: 0.7424 - lr: 0.0010\n",
            "Epoch 11/1000\n",
            "21/21 [==============================] - 1s 40ms/step - loss: 0.2915 - accuracy: 0.8818 - val_loss: 0.6009 - val_accuracy: 0.7149 - lr: 0.0010\n",
            "Epoch 12/1000\n",
            "21/21 [==============================] - 1s 39ms/step - loss: 0.2802 - accuracy: 0.8867 - val_loss: 0.6574 - val_accuracy: 0.6982 - lr: 0.0010\n",
            "Epoch 13/1000\n",
            "21/21 [==============================] - 1s 43ms/step - loss: 0.2748 - accuracy: 0.8890 - val_loss: 0.6129 - val_accuracy: 0.7271 - lr: 0.0010\n",
            "Epoch 14/1000\n",
            "21/21 [==============================] - 1s 39ms/step - loss: 0.2460 - accuracy: 0.8959 - val_loss: 0.6541 - val_accuracy: 0.7241 - lr: 0.0010\n",
            "Epoch 15/1000\n",
            "21/21 [==============================] - 1s 43ms/step - loss: 0.2166 - accuracy: 0.9180 - val_loss: 0.6227 - val_accuracy: 0.7241 - lr: 1.0000e-04\n",
            "Epoch 16/1000\n",
            "21/21 [==============================] - 1s 39ms/step - loss: 0.1834 - accuracy: 0.9420 - val_loss: 0.6278 - val_accuracy: 0.7332 - lr: 1.0000e-04\n",
            "Epoch 17/1000\n",
            "21/21 [==============================] - 1s 48ms/step - loss: 0.1709 - accuracy: 0.9462 - val_loss: 0.6378 - val_accuracy: 0.7378 - lr: 1.0000e-04\n",
            "Epoch 18/1000\n",
            "21/21 [==============================] - 1s 45ms/step - loss: 0.1634 - accuracy: 0.9489 - val_loss: 0.6472 - val_accuracy: 0.7393 - lr: 1.0000e-04\n",
            "Epoch 19/1000\n",
            "21/21 [==============================] - 1s 41ms/step - loss: 0.1585 - accuracy: 0.9508 - val_loss: 0.6538 - val_accuracy: 0.7348 - lr: 1.0000e-04\n"
          ]
        }
      ],
      "source": [
        "history = model.fit(train_data, epochs=1000, verbose=1, validation_data=test_data, callbacks=[early_stopping, reduce_lr_on_plateau])"
      ]
    },
    {
      "cell_type": "markdown",
      "metadata": {
        "id": "eWJrKA7brJB8"
      },
      "source": [
        "##  Ejemplo del dataset"
      ]
    },
    {
      "cell_type": "code",
      "execution_count": null,
      "metadata": {
        "id": "bMErFiG-rJtY"
      },
      "outputs": [],
      "source": [
        "def predict_image(model,path):\n",
        "  img = tf.io.read_file(path)\n",
        "  img = tf.image.decode_jpeg(img, channels=3, try_recover_truncated = True)\n",
        "  img = tf.image.resize(img, (128,128))\n",
        "  img = tf.cast(img, tf.float32)/255\n",
        "  img = tf.reshape(img, (1,128,128,3))\n",
        "  prediction = model.predict(img)\n",
        "  prob = prediction.max()\n",
        "  return ('cat', prob) if prediction.argmax()==0 else ('dog', prob)\n"
      ]
    },
    {
      "cell_type": "code",
      "execution_count": null,
      "metadata": {
        "id": "0OdaKec2rbcK",
        "colab": {
          "base_uri": "https://localhost:8080/"
        },
        "outputId": "ec14c83f-c4e8-4efc-a1a2-1400d4a3a539"
      },
      "outputs": [
        {
          "output_type": "stream",
          "name": "stdout",
          "text": [
            "1/1 [==============================] - 0s 390ms/step\n"
          ]
        },
        {
          "output_type": "execute_result",
          "data": {
            "text/plain": [
              "('cat', 0.9986356)"
            ]
          },
          "metadata": {},
          "execution_count": 28
        }
      ],
      "source": [
        "predict_image(model,os.path.join(path_cats,'cat.jpg'))"
      ]
    },
    {
      "cell_type": "markdown",
      "metadata": {
        "id": "582eiARFrcax"
      },
      "source": [
        "##  Gráficas de entrenamiento y test empleando las variables accuracy y loss"
      ]
    },
    {
      "cell_type": "markdown",
      "metadata": {
        "id": "qXyL2bSlpz7K"
      },
      "source": [
        "##### LOSS"
      ]
    },
    {
      "cell_type": "code",
      "execution_count": null,
      "metadata": {
        "id": "9npcBKcxpz7K",
        "colab": {
          "base_uri": "https://localhost:8080/",
          "height": 472
        },
        "outputId": "8ba65449-a223-408b-ff96-ac7b07ba9f23"
      },
      "outputs": [
        {
          "output_type": "display_data",
          "data": {
            "text/plain": [
              "<Figure size 640x480 with 1 Axes>"
            ],
            "image/png": "[encoded data removed]"
          },
          "metadata": {}
        }
      ],
      "source": [
        "plt.plot(history.history['loss'])\n",
        "plt.plot(history.history['val_loss'])\n",
        "plt.title('model loss')\n",
        "plt.ylabel('loss')\n",
        "plt.xlabel('epoch')\n",
        "plt.legend(['train', 'test'], loc='upper left')\n",
        "plt.show()"
      ]
    },
    {
      "cell_type": "markdown",
      "metadata": {
        "id": "7_opvIQUpz7K"
      },
      "source": [
        "##### ACCURACY"
      ]
    },
    {
      "cell_type": "code",
      "execution_count": null,
      "metadata": {
        "id": "yv2Be218pz7K",
        "colab": {
          "base_uri": "https://localhost:8080/",
          "height": 472
        },
        "outputId": "7f95a5a3-f7fc-452c-c5b6-5a22e6134aa8"
      },
      "outputs": [
        {
          "output_type": "display_data",
          "data": {
            "text/plain": [
              "<Figure size 640x480 with 1 Axes>"
            ],
            "image/png": "[encoded data removed]"
          },
          "metadata": {}
        }
      ],
      "source": [
        "plt.plot(history.history['accuracy'])\n",
        "plt.plot(history.history['val_accuracy'])\n",
        "plt.title('model accuracy')\n",
        "plt.ylabel('loss')\n",
        "plt.xlabel('epoch')\n",
        "plt.legend(['train', 'test'], loc='upper left')\n",
        "plt.show()"
      ]
    },
    {
      "cell_type": "markdown",
      "metadata": {
        "id": "veCXkmqgpz7L"
      },
      "source": [
        "##  Guardado del modelo"
      ]
    },
    {
      "cell_type": "code",
      "execution_count": null,
      "metadata": {
        "id": "GlWGld06pz7T"
      },
      "outputs": [],
      "source": [
        "path_save = \"/content/drive/MyDrive/Deep Learning/Models\"\n",
        "\n",
        "model_path = os.path.join(path_save,'cat_dog')\n",
        "model.save(model_path)"
      ]
    },
    {
      "cell_type": "markdown",
      "metadata": {
        "id": "tujG9ivQS402"
      },
      "source": [
        "-"
      ]
    }
  ],
  "metadata": {
    "colab": {
      "provenance": [],
      "gpuType": "T4"
    },
    "kernelspec": {
      "display_name": "Python 3",
      "name": "python3"
    },
    "language_info": {
      "codemirror_mode": {
        "name": "ipython",
        "version": 3
      },
      "file_extension": ".py",
      "mimetype": "text/x-python",
      "name": "python",
      "nbconvert_exporter": "python",
      "pygments_lexer": "ipython3",
      "version": "3.8.10"
    },
    "accelerator": "GPU"
  },
  "nbformat": 4,
  "nbformat_minor": 0
}