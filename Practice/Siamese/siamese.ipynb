{
  "cells": [
    {
      "cell_type": "markdown",
      "metadata": {
        "id": "HlYfEc-IoGRm"
      },
      "source": [
        "**Ejercicio entregable 2**"
      ]
    },
    {
      "cell_type": "markdown",
      "metadata": {
        "id": "zU338LCBoOe9"
      },
      "source": [
        "El documento está orientado a la realización de una red DCNN siamesa que permita comparar entre 2 imágenes.\n",
        "Para ello, se han definido todos los pasos que debereís dar y la puntuación de los mismos"
      ]
    },
    {
      "cell_type": "code",
      "execution_count": null,
      "metadata": {
        "id": "thbt7PEzoEY0",
        "colab": {
          "base_uri": "https://localhost:8080/"
        },
        "outputId": "93299b86-da6d-4074-ec8d-15eefdc2ce62"
      },
      "outputs": [
        {
          "output_type": "stream",
          "name": "stdout",
          "text": [
            "Mounted at /content/drive\n"
          ]
        }
      ],
      "source": [
        "import os\n",
        "import pandas as pd\n",
        "import numpy as np\n",
        "import tensorflow as tf\n",
        "from tensorflow import keras\n",
        "from tensorflow.keras import layers\n",
        "from sklearn.model_selection import train_test_split\n",
        "from matplotlib import pyplot as plt\n",
        "\n",
        "from google.colab import drive\n",
        "drive.mount('/content/drive')\n",
        "\n",
        "path_img = \"/content/drive/MyDrive/Deep Learning/Datasets/w16_h9_432\""
      ]
    },
    {
      "cell_type": "markdown",
      "metadata": {
        "id": "83xk8yZDpKJY"
      },
      "source": [
        "## Construcción del dataset"
      ]
    },
    {
      "cell_type": "code",
      "execution_count": 22,
      "metadata": {
        "id": "OwAKrxenpdR2"
      },
      "outputs": [],
      "source": [
        "def image_transformation(paths,label):\n",
        "  img1 = tf.io.read_file(paths[0])\n",
        "  img2 = tf.io.read_file(paths[1])\n",
        "\n",
        "  img1 = tf.image.decode_jpeg(img1, channels=3)\n",
        "  img2 = tf.image.decode_jpeg(img2, channels=3)\n",
        "\n",
        "  img1 = tf.image.resize(img1, (128,128))\n",
        "  img2 = tf.image.resize(img2, (128, 128))\n",
        "\n",
        "  return ((img1,img2),label)"
      ]
    },
    {
      "cell_type": "code",
      "source": [
        "augmentation_operations = tf.keras.Sequential([\n",
        "  layers.RandomFlip(\"horizontal_and_vertical\"),\n",
        "  layers.RandomRotation(0.2),\n",
        "])\n",
        "\n",
        "def data_aumentation(images, label):\n",
        "  augmented_img1 = augmentation_operations(images[0])\n",
        "  augmented_img2 = augmentation_operations(images[1])\n",
        "  img1 = tf.cast(augmented_img1, tf.float32)/255\n",
        "  img2 = tf.cast(augmented_img2, tf.float32)/255\n",
        "  return ((img1, img2), label)"
      ],
      "metadata": {
        "id": "875WK8hbwTJr"
      },
      "execution_count": 23,
      "outputs": []
    },
    {
      "cell_type": "code",
      "execution_count": 24,
      "metadata": {
        "id": "N2YwbOQCpd85"
      },
      "outputs": [],
      "source": [
        "def get_dataset(batch_size=128):\n",
        "  img_paths = [os.path.join(path_img,name) for name in os.listdir(path_img)]\n",
        "\n",
        "  #Same image\n",
        "  content = [((a,a),1) for a in img_paths]\n",
        "\n",
        "  img_paths_rotated = img_paths.copy()\n",
        "  img_paths_rotated.append(img_paths_rotated.pop(0))\n",
        "  content += [(e,0) for e in list(zip(img_paths, img_paths_rotated))]\n",
        "\n",
        "  X_train, X_test, Y_train, Y_test = train_test_split([a for (a,_) in content],[b for (_,b) in content], test_size=0.2, random_state=23)\n",
        "\n",
        "  train_data = tf.data.Dataset.from_tensor_slices((tf.constant(X_train), tf.constant(Y_train))).map(image_transformation, num_parallel_calls=tf.data.AUTOTUNE).cache().map(data_aumentation, num_parallel_calls=tf.data.AUTOTUNE).batch(batch_size)\n",
        "  test_data = tf.data.Dataset.from_tensor_slices((tf.constant(X_test), tf.constant(Y_test))).map(image_transformation, num_parallel_calls=tf.data.AUTOTUNE).cache().map(data_aumentation, num_parallel_calls=tf.data.AUTOTUNE).batch(batch_size)\n",
        "\n",
        "  return train_data, test_data\n"
      ]
    },
    {
      "cell_type": "code",
      "source": [
        "train_data, test_data = get_dataset()"
      ],
      "metadata": {
        "id": "tWzk8Bks8Zxa"
      },
      "execution_count": 25,
      "outputs": []
    },
    {
      "cell_type": "markdown",
      "metadata": {
        "id": "4QbVjOFXpg1B"
      },
      "source": [
        "## Estructura del modelo"
      ]
    },
    {
      "cell_type": "code",
      "execution_count": 26,
      "metadata": {
        "id": "mSuCM7V9pwWk"
      },
      "outputs": [],
      "source": [
        "def get_encoder(latent):\n",
        "   model = keras.models.Sequential()\n",
        "   model.add(layers.Conv2D(8, 3, activation='relu', input_shape=(128,128,3)))\n",
        "   model.add(layers.MaxPooling2D())\n",
        "   model.add(layers.Conv2D(16, 3, activation='relu'))\n",
        "   model.add(layers.MaxPooling2D())\n",
        "   model.add(layers.Conv2D(32, 3, activation='relu'))\n",
        "   model.add(layers.MaxPooling2D())\n",
        "   model.add(layers.Conv2D(64, 3, activation='relu'))\n",
        "   model.add(layers.MaxPooling2D())\n",
        "   model.add(layers.Conv2D(128, 3, activation='relu'))\n",
        "   model.add(layers.MaxPooling2D())\n",
        "   model.add(layers.Flatten())\n",
        "   model.add(layers.Dense(latent, activation='sigmoid'))\n",
        "   return model"
      ]
    },
    {
      "cell_type": "code",
      "execution_count": 27,
      "metadata": {
        "id": "PROUJ9vQpxDb"
      },
      "outputs": [],
      "source": [
        "def get_model():\n",
        "    input1 = layers.Input(shape=(128,128,3))\n",
        "    input2 = layers.Input(shape=(128,128,3))\n",
        "    cnn = get_encoder(32) # <<<--- Queremos crear solo 1 modelo de \"rama\" y usarlo en cada una\n",
        "    x1 = cnn(input1)\n",
        "    x2 = cnn(input2)\n",
        "    d = keras.backend.abs(x1 - x2)\n",
        "    r = layers.Dense(1, activation='sigmoid')(d)\n",
        "    model = keras.models.Model(inputs=[input1, input2], outputs=r)\n",
        "    model.compile(loss='mse', optimizer=keras.optimizers.Adam(learning_rate=0.01), metrics=['mae'])\n",
        "    return model, cnn"
      ]
    },
    {
      "cell_type": "markdown",
      "metadata": {
        "id": "SLVBdx8ZQ5z6"
      },
      "source": [
        "##  Model summary"
      ]
    },
    {
      "cell_type": "code",
      "execution_count": 28,
      "metadata": {
        "id": "iVWUFS0Dpw-u"
      },
      "outputs": [],
      "source": [
        "model, submodel = get_model()"
      ]
    },
    {
      "cell_type": "code",
      "execution_count": 29,
      "metadata": {
        "id": "t9TIJzYWREYa",
        "colab": {
          "base_uri": "https://localhost:8080/"
        },
        "outputId": "7e62fc32-eba4-4382-de48-9b9f3ae489af"
      },
      "outputs": [
        {
          "output_type": "stream",
          "name": "stdout",
          "text": [
            "Model: \"model_1\"\n",
            "__________________________________________________________________________________________________\n",
            " Layer (type)                Output Shape                 Param #   Connected to                  \n",
            "==================================================================================================\n",
            " input_3 (InputLayer)        [(None, 128, 128, 3)]        0         []                            \n",
            "                                                                                                  \n",
            " input_4 (InputLayer)        [(None, 128, 128, 3)]        0         []                            \n",
            "                                                                                                  \n",
            " sequential_3 (Sequential)   (None, 32)                   114800    ['input_3[0][0]',             \n",
            "                                                                     'input_4[0][0]']             \n",
            "                                                                                                  \n",
            " tf.math.subtract_1 (TFOpLa  (None, 32)                   0         ['sequential_3[0][0]',        \n",
            " mbda)                                                               'sequential_3[1][0]']        \n",
            "                                                                                                  \n",
            " tf.math.abs_1 (TFOpLambda)  (None, 32)                   0         ['tf.math.subtract_1[0][0]']  \n",
            "                                                                                                  \n",
            " dense_3 (Dense)             (None, 1)                    33        ['tf.math.abs_1[0][0]']       \n",
            "                                                                                                  \n",
            "==================================================================================================\n",
            "Total params: 114833 (448.57 KB)\n",
            "Trainable params: 114833 (448.57 KB)\n",
            "Non-trainable params: 0 (0.00 Byte)\n",
            "__________________________________________________________________________________________________\n"
          ]
        }
      ],
      "source": [
        "model.summary()"
      ]
    },
    {
      "cell_type": "markdown",
      "metadata": {
        "id": "V1fuNfh4p8w2"
      },
      "source": [
        "## Callbacks"
      ]
    },
    {
      "cell_type": "code",
      "execution_count": 30,
      "metadata": {
        "id": "Rd_j7nWKqOcm"
      },
      "outputs": [],
      "source": [
        "early_stopping = keras.callbacks.EarlyStopping(monitor='val_mae', patience=4, restore_best_weights=True, verbose=0)"
      ]
    },
    {
      "cell_type": "code",
      "execution_count": 31,
      "metadata": {
        "id": "yZGPMbb4qO-O"
      },
      "outputs": [],
      "source": [
        "reduce_lr_on_plateau = keras.callbacks.ReduceLROnPlateau(monitor='val_mae', patience=5, verbose=0)"
      ]
    },
    {
      "cell_type": "code",
      "execution_count": 32,
      "metadata": {
        "id": "Go595ag2qO28"
      },
      "outputs": [],
      "source": [
        "model_checkpoint = keras.callbacks.ModelCheckpoint(filepath=\"./generated/model\", monitor='val_mae', save_best_only=True, save_weights_only=False, verbose=0)"
      ]
    },
    {
      "cell_type": "markdown",
      "metadata": {
        "id": "ahjW7gDSqPcv"
      },
      "source": [
        "## Entrenamiento"
      ]
    },
    {
      "cell_type": "code",
      "execution_count": 33,
      "metadata": {
        "id": "1DzTyjabrE6m",
        "colab": {
          "base_uri": "https://localhost:8080/"
        },
        "outputId": "32500d0a-6728-4207-df73-891fecbc13ef"
      },
      "outputs": [
        {
          "output_type": "stream",
          "name": "stdout",
          "text": [
            "Epoch 1/1000\n",
            "45/45 [==============================] - 129s 2s/step - loss: 0.1621 - mae: 0.3624 - val_loss: 0.1055 - val_mae: 0.2665 - lr: 0.0100\n",
            "Epoch 2/1000\n",
            "45/45 [==============================] - 23s 514ms/step - loss: 0.0843 - mae: 0.2301 - val_loss: 0.0860 - val_mae: 0.2419 - lr: 0.0100\n",
            "Epoch 3/1000\n",
            "45/45 [==============================] - 22s 500ms/step - loss: 0.0644 - mae: 0.1924 - val_loss: 0.0662 - val_mae: 0.1926 - lr: 0.0100\n",
            "Epoch 4/1000\n",
            "45/45 [==============================] - 24s 527ms/step - loss: 0.0477 - mae: 0.1537 - val_loss: 0.0469 - val_mae: 0.1529 - lr: 0.0100\n",
            "Epoch 5/1000\n",
            "45/45 [==============================] - 23s 524ms/step - loss: 0.0400 - mae: 0.1323 - val_loss: 0.0366 - val_mae: 0.1287 - lr: 0.0100\n",
            "Epoch 6/1000\n",
            "45/45 [==============================] - 22s 499ms/step - loss: 0.0339 - mae: 0.1181 - val_loss: 0.0263 - val_mae: 0.1030 - lr: 0.0100\n",
            "Epoch 7/1000\n",
            "45/45 [==============================] - 23s 505ms/step - loss: 0.0319 - mae: 0.1131 - val_loss: 0.0239 - val_mae: 0.0943 - lr: 0.0100\n",
            "Epoch 8/1000\n",
            "45/45 [==============================] - 24s 532ms/step - loss: 0.0258 - mae: 0.0945 - val_loss: 0.0217 - val_mae: 0.0865 - lr: 0.0100\n",
            "Epoch 9/1000\n",
            "45/45 [==============================] - 22s 495ms/step - loss: 0.0214 - mae: 0.0849 - val_loss: 0.0207 - val_mae: 0.0766 - lr: 0.0100\n",
            "Epoch 10/1000\n",
            "45/45 [==============================] - 22s 502ms/step - loss: 0.0185 - mae: 0.0740 - val_loss: 0.0198 - val_mae: 0.0776 - lr: 0.0100\n",
            "Epoch 11/1000\n",
            "45/45 [==============================] - 26s 572ms/step - loss: 0.0203 - mae: 0.0781 - val_loss: 0.0216 - val_mae: 0.0738 - lr: 0.0100\n",
            "Epoch 12/1000\n",
            "45/45 [==============================] - 22s 502ms/step - loss: 0.0165 - mae: 0.0664 - val_loss: 0.0143 - val_mae: 0.0636 - lr: 0.0100\n",
            "Epoch 13/1000\n",
            "45/45 [==============================] - 23s 505ms/step - loss: 0.0192 - mae: 0.0718 - val_loss: 0.0232 - val_mae: 0.0809 - lr: 0.0100\n",
            "Epoch 14/1000\n",
            "45/45 [==============================] - 22s 495ms/step - loss: 0.0231 - mae: 0.0857 - val_loss: 0.0222 - val_mae: 0.0714 - lr: 0.0100\n",
            "Epoch 15/1000\n",
            "45/45 [==============================] - 25s 544ms/step - loss: 0.0205 - mae: 0.0754 - val_loss: 0.0155 - val_mae: 0.0613 - lr: 0.0100\n",
            "Epoch 16/1000\n",
            "45/45 [==============================] - 23s 518ms/step - loss: 0.0265 - mae: 0.0830 - val_loss: 0.0125 - val_mae: 0.0600 - lr: 0.0100\n",
            "Epoch 17/1000\n",
            "45/45 [==============================] - 22s 485ms/step - loss: 0.0140 - mae: 0.0597 - val_loss: 0.0122 - val_mae: 0.0575 - lr: 0.0100\n",
            "Epoch 18/1000\n",
            "45/45 [==============================] - 21s 476ms/step - loss: 0.0148 - mae: 0.0590 - val_loss: 0.0137 - val_mae: 0.0596 - lr: 0.0100\n",
            "Epoch 19/1000\n",
            "45/45 [==============================] - 25s 559ms/step - loss: 0.0121 - mae: 0.0517 - val_loss: 0.0163 - val_mae: 0.0571 - lr: 0.0100\n",
            "Epoch 20/1000\n",
            "45/45 [==============================] - 23s 510ms/step - loss: 0.0105 - mae: 0.0469 - val_loss: 0.0104 - val_mae: 0.0482 - lr: 0.0100\n",
            "Epoch 21/1000\n",
            "45/45 [==============================] - 23s 506ms/step - loss: 0.0111 - mae: 0.0465 - val_loss: 0.0119 - val_mae: 0.0487 - lr: 0.0100\n",
            "Epoch 22/1000\n",
            "45/45 [==============================] - 22s 501ms/step - loss: 0.0105 - mae: 0.0476 - val_loss: 0.0091 - val_mae: 0.0430 - lr: 0.0100\n",
            "Epoch 23/1000\n",
            "45/45 [==============================] - 23s 517ms/step - loss: 0.0118 - mae: 0.0470 - val_loss: 0.0176 - val_mae: 0.0607 - lr: 0.0100\n",
            "Epoch 24/1000\n",
            "45/45 [==============================] - 24s 526ms/step - loss: 0.0146 - mae: 0.0571 - val_loss: 0.0095 - val_mae: 0.0486 - lr: 0.0100\n",
            "Epoch 25/1000\n",
            "45/45 [==============================] - 22s 487ms/step - loss: 0.0112 - mae: 0.0475 - val_loss: 0.0212 - val_mae: 0.0711 - lr: 0.0100\n",
            "Epoch 26/1000\n",
            "45/45 [==============================] - 23s 512ms/step - loss: 0.0123 - mae: 0.0526 - val_loss: 0.0091 - val_mae: 0.0462 - lr: 0.0100\n"
          ]
        }
      ],
      "source": [
        "history = model.fit(train_data, epochs=1000, verbose=1, validation_data=test_data, callbacks=[early_stopping,reduce_lr_on_plateau])"
      ]
    },
    {
      "cell_type": "markdown",
      "metadata": {
        "id": "eWJrKA7brJB8"
      },
      "source": [
        "## Ejemplo del dataset"
      ]
    },
    {
      "cell_type": "code",
      "execution_count": 38,
      "metadata": {
        "id": "bMErFiG-rJtY"
      },
      "outputs": [],
      "source": [
        "def predict_image(model, A, B):\n",
        "    image1 = tf.io.read_file(A)\n",
        "    image2 = tf.io.read_file(B)\n",
        "    image1 = tf.image.decode_jpeg(image1, channels=3)\n",
        "    image2 = tf.image.decode_jpeg(image2, channels=3)\n",
        "    image1 = tf.image.resize(image1, (128,128))\n",
        "    image2 = tf.image.resize(image2, (128,128))\n",
        "    image1 = tf.cast(image1, tf.float32)/255\n",
        "    image2 = tf.cast(image2, tf.float32)/255\n",
        "    image1 = tf.reshape(image1, (1,128,128,3))\n",
        "    image2 = tf.reshape(image2, (1,128,128,3))\n",
        "    prediction = model.predict([image1,image2])\n",
        "    prob = prediction.max()\n",
        "    return ('Identical', prob) if prob > 0.5 else ('Different', 1-prob)"
      ]
    },
    {
      "cell_type": "code",
      "execution_count": 39,
      "metadata": {
        "id": "0OdaKec2rbcK",
        "colab": {
          "base_uri": "https://localhost:8080/"
        },
        "outputId": "07a0c1a6-701a-4e78-9634-50e3b62bad58"
      },
      "outputs": [
        {
          "output_type": "stream",
          "name": "stdout",
          "text": [
            "1/1 [==============================] - 0s 32ms/step\n"
          ]
        },
        {
          "output_type": "execute_result",
          "data": {
            "text/plain": [
              "('Different', 0.9999999999660113)"
            ]
          },
          "metadata": {},
          "execution_count": 39
        }
      ],
      "source": [
        "predict_image(model, os.path.join(path_img,'1.jpg'), os.path.join(path_img,'11.jpg'))"
      ]
    },
    {
      "cell_type": "markdown",
      "metadata": {
        "id": "582eiARFrcax"
      },
      "source": [
        "##  Gráficas de entrenamiento y test empleando las variables accuracy y loss"
      ]
    },
    {
      "cell_type": "code",
      "execution_count": 40,
      "metadata": {
        "id": "xNLBZKuLsPDA",
        "colab": {
          "base_uri": "https://localhost:8080/",
          "height": 472
        },
        "outputId": "9b4510a9-0760-4f43-b50a-c617abaaee79"
      },
      "outputs": [
        {
          "output_type": "display_data",
          "data": {
            "text/plain": [
              "<Figure size 640x480 with 1 Axes>"
            ],
            "image/png": "[encoded data removed]"
          },
          "metadata": {}
        }
      ],
      "source": [
        "plt.plot(history.history['loss'])\n",
        "plt.plot(history.history['val_loss'])\n",
        "plt.title('model loss')\n",
        "plt.ylabel('loss')\n",
        "plt.xlabel('epoch')\n",
        "plt.legend(['train', 'test'], loc='upper left')\n",
        "plt.show()"
      ]
    },
    {
      "cell_type": "code",
      "execution_count": 41,
      "metadata": {
        "id": "AKS-wlR-sOzg",
        "colab": {
          "base_uri": "https://localhost:8080/",
          "height": 472
        },
        "outputId": "e2bcc97e-6543-4424-eb0c-d7b85832b994"
      },
      "outputs": [
        {
          "output_type": "display_data",
          "data": {
            "text/plain": [
              "<Figure size 640x480 with 1 Axes>"
            ],
            "image/png": "[encoded data removed]"
          },
          "metadata": {}
        }
      ],
      "source": [
        "plt.plot(history.history['mae'])\n",
        "plt.plot(history.history['val_mae'])\n",
        "plt.title('model mae')\n",
        "plt.ylabel('mae')\n",
        "plt.xlabel('epoch')\n",
        "plt.legend(['train', 'test'], loc='upper left')\n",
        "plt.show()"
      ]
    },
    {
      "cell_type": "markdown",
      "metadata": {
        "id": "tujG9ivQS402"
      },
      "source": [
        "-"
      ]
    },
    {
      "cell_type": "code",
      "source": [],
      "metadata": {
        "id": "MV3xXp1SwSl5"
      },
      "execution_count": 41,
      "outputs": []
    }
  ],
  "metadata": {
    "colab": {
      "provenance": [],
      "gpuType": "T4"
    },
    "kernelspec": {
      "display_name": "Python 3",
      "name": "python3"
    },
    "language_info": {
      "codemirror_mode": {
        "name": "ipython",
        "version": 3
      },
      "file_extension": ".py",
      "mimetype": "text/x-python",
      "name": "python",
      "nbconvert_exporter": "python",
      "pygments_lexer": "ipython3",
      "version": "3.8.5"
    },
    "accelerator": "GPU"
  },
  "nbformat": 4,
  "nbformat_minor": 0
}