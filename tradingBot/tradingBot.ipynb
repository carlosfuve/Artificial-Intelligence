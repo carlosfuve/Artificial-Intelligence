{
  "cells": [
    {
      "cell_type": "code",
      "execution_count": null,
      "metadata": {
        "id": "JOIw18yzvITo"
      },
      "outputs": [],
      "source": [
        "!pip install lumibot==2.9.13\n",
        "!pip install alpaca-trade-api==3.1.1\n",
        "!pip install torch\n",
        "!pip install torchvision\n",
        "!pip install torchaudio\n",
        "!pip install transformers"
      ]
    },
    {
      "cell_type": "code",
      "execution_count": null,
      "metadata": {
        "id": "cWuv8SPqyjsb"
      },
      "outputs": [],
      "source": [
        "from lumibot.brockers import Alpaca\n",
        "from lumibot.backtesting import YahooDataBacktesting\n",
        "from lumibot.strategies.stategy import Strategy\n",
        "from lumibot.traders import Trader\n",
        "from datetime import datetime\n",
        "from alpaca_trade_api import REST\n",
        "from timedelta import timedelta"
      ]
    },
    {
      "cell_type": "code",
      "execution_count": null,
      "metadata": {
        "id": "1oSgBYeHy77g"
      },
      "outputs": [],
      "source": [
        "API_KEY = \"\"\n",
        "API_SECRET = \"\"\n",
        "BASE_URL = \"\"\n",
        "\n",
        "ALPACA_CREDS = {\n",
        "    \"API_KEY\": API_KEY,\n",
        "    \"API_SECRET\": API_SECRET,\n",
        "    \"Paper\": True\n",
        "}"
      ]
    },
    {
      "cell_type": "code",
      "execution_count": null,
      "metadata": {
        "id": "BJsEN_a8uEuQ"
      },
      "outputs": [],
      "source": [
        "from transformers import AutoTokenizer, AutoModelForSequenceClassification\n",
        "import torch\n",
        "from typing import Tuple\n",
        "device = \"cuda:0\" if torch.cuda.is_available() else \"cpu\"\n",
        "\n",
        "tokenizer = AutoTokenizer.from_pretrained(\"ProsusAI/finbert\")\n",
        "model = AutoModelForSequenceClassification.from_pretrained(\"ProsusAI/finbert\").to(device)\n",
        "labels = [\"positive\", \"negative\", \"neutral\"]\n",
        "\n",
        "def estimate_sentiment(news):\n",
        "    if news:\n",
        "        tokens = tokenizer(news, return_tensors=\"pt\", padding=True).to(device)\n",
        "\n",
        "        result = model(tokens[\"input_ids\"], attention_mask=tokens[\"attention_mask\"])[\n",
        "            \"logits\"\n",
        "        ]\n",
        "        result = torch.nn.functional.softmax(torch.sum(result, 0), dim=-1)\n",
        "        probability = result[torch.argmax(result)]\n",
        "        sentiment = labels[torch.argmax(result)]\n",
        "        return probability, sentiment\n",
        "    else:\n",
        "        return 0, labels[-1]"
      ]
    },
    {
      "cell_type": "code",
      "execution_count": null,
      "metadata": {
        "id": "086AG1X-zef3"
      },
      "outputs": [],
      "source": [
        "class AITrader(Strategy):\n",
        "  def initialize(self,symbol:str=\"SPY\",cash_at_risk:float=.5):\n",
        "    self.symbol = symbol\n",
        "    self.sleeptime = \"24H\"\n",
        "    self.last_trade = None\n",
        "    self.cash_at_risk = cash_at_risk\n",
        "    self.api = REST(base_url=BASE_URL, key_id=API_KEY, secret_key=API_SECRET)\n",
        "\n",
        "  def position_sizing(self):\n",
        "    cash = self.get_cash()\n",
        "    last_price = self.get_last_price(self.symbol)\n",
        "    quantity = round(cash * self.cash_at_risk / last_price,0)\n",
        "    return cash, last_price, quantity\n",
        "\n",
        "  def get_dates(self):\n",
        "    today = self.get_datetime()\n",
        "    three_days_prior = today - Timedelta(days=3)\n",
        "    return today.strftime('%Y-%,%m-%d'), three_days_prior.strftime('%Y-%,%m-%d')\n",
        "\n",
        "  def get_sentiment(self):\n",
        "    today, three_days_priotr = self.get_dates()\n",
        "    news = self.api.get_news(symbol=self.symbol, start=three_days_priotr, end=today)\n",
        "    news = [event.__dict__[\"raw\"][\"headline\"] for event in news]\n",
        "\n",
        "    probability, sentiment = estimate_sentiment(news)\n",
        "    return probability, sentiment\n",
        "\n",
        "  def on_trading_iteration(self):\n",
        "    cash, last_price, quantity = self.position_sizing()\n",
        "    probability, sentiment = self.get_sentiment()\n",
        "    if cash > last_price:\n",
        "      if sentiment == \"positive\" and probability > .999:\n",
        "        if self.last_trade == \"sell\":\n",
        "          self.sell_all()\n",
        "        order = self.create_order(\n",
        "            self.symbol,\n",
        "            quantity,\n",
        "            \"buy\",\n",
        "            type=\"bracket\",\n",
        "            take_profit_pice = last_price*1.20,\n",
        "            stop_loss_price=last_price*.95\n",
        "        )\n",
        "        self.submit_order(order)\n",
        "        self.last_trade = \"buy\"\n",
        "\n",
        "      elif sentiment == \"negative\" and probability > .999:\n",
        "        if self.last_trade == \"buy\":\n",
        "          self.sell_all()\n",
        "        order = self.create_order(\n",
        "            self.symbol,\n",
        "            quantity,\n",
        "            \"sell\",\n",
        "            type=\"bracket\",\n",
        "            take_profit_pice = last_price*.8,\n",
        "            stop_loss_price=last_price*1.05\n",
        "        )\n",
        "        self.submit_order(order)\n",
        "        self.last_trade = \"sell\"\n"
      ]
    },
    {
      "cell_type": "code",
      "execution_count": null,
      "metadata": {
        "id": "Wrv-zxUc091n"
      },
      "outputs": [],
      "source": [
        "start_date = datetime(2024,1,1)\n",
        "end_date = datetime(2024,1,31)\n",
        "\n",
        "broker = Alpaca(ALPACA_CREDS)\n",
        "startegy = AITrader(name='AItradingBot', broker=broker,params={{\"symbol\":\"SPY\",\"cash_at_risk\":.5}})\n",
        "strategy.backtest(\n",
        "    YahooDataBacktesting,\n",
        "    start_date,\n",
        "    end_date,\n",
        "    params={\"symbol\":\"SPY\",\"cash_at_risk\":.5}\n",
        ")\n",
        "\n",
        "# trader = Trader()\n",
        "# trader.add_strategy(strategy)\n",
        "# trader.run_all()"
      ]
    }
  ],
  "metadata": {
    "colab": {
      "provenance": []
    },
    "kernelspec": {
      "display_name": "Python 3",
      "name": "python3"
    },
    "language_info": {
      "name": "python"
    }
  },
  "nbformat": 4,
  "nbformat_minor": 0
}
